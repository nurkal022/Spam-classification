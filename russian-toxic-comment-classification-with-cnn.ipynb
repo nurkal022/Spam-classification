{
 "cells": [
  {
   "cell_type": "markdown",
   "metadata": {},
   "source": [
    "Hello to all Russian speakers and everyone interested! \n",
    "\n",
    "Recently in the NLP course, I learned that convolutional neural networks can be used to classify text and decided to check this on this wonderful dataset. Let's see what happens :)"
   ]
  },
  {
   "cell_type": "code",
   "execution_count": 2,
   "metadata": {},
   "outputs": [],
   "source": [
    "import numpy as np\n",
    "import pandas as pd\n",
    "from nltk.tokenize import word_tokenize\n",
    "from string import punctuation\n",
    "from sklearn.model_selection import train_test_split\n",
    "import matplotlib.pyplot as plt\n",
    "from collections import Counter\n",
    "\n",
    "import keras\n",
    "from keras.models import Sequential\n",
    "from keras.layers import Dense, Embedding, Flatten, Conv1D, GlobalMaxPooling1D\n",
    "from keras.preprocessing.text import Tokenizer"
   ]
  },
  {
   "cell_type": "markdown",
   "metadata": {},
   "source": [
    "First, import the required libraries and load the data."
   ]
  },
  {
   "cell_type": "code",
   "execution_count": 4,
   "metadata": {
    "_cell_guid": "b1076dfc-b9ad-4769-8c92-a6c4dae69d19",
    "_uuid": "8f2839f25d086af736a60e9eeb907d3b93b6e0e5",
    "execution": {
     "iopub.execute_input": "2021-12-23T14:32:59.310136Z",
     "iopub.status.busy": "2021-12-23T14:32:59.308767Z",
     "iopub.status.idle": "2021-12-23T14:33:07.738569Z",
     "shell.execute_reply": "2021-12-23T14:33:07.737578Z",
     "shell.execute_reply.started": "2021-12-23T14:32:59.310077Z"
    }
   },
   "outputs": [
    {
     "name": "stdout",
     "output_type": "stream",
     "text": [
      "Defaulting to user installation because normal site-packages is not writeable\n",
      "Collecting pymystem3\n",
      "  Downloading pymystem3-0.2.0-py3-none-any.whl (10 kB)\n",
      "Requirement already satisfied: requests in d:\\tool\\anaconda\\lib\\site-packages (from pymystem3) (2.28.1)\n",
      "Requirement already satisfied: idna<4,>=2.5 in d:\\tool\\anaconda\\lib\\site-packages (from requests->pymystem3) (3.3)\n",
      "Requirement already satisfied: urllib3<1.27,>=1.21.1 in d:\\tool\\anaconda\\lib\\site-packages (from requests->pymystem3) (1.26.11)\n",
      "Requirement already satisfied: charset-normalizer<3,>=2 in d:\\tool\\anaconda\\lib\\site-packages (from requests->pymystem3) (2.0.4)\n",
      "Requirement already satisfied: certifi>=2017.4.17 in d:\\tool\\anaconda\\lib\\site-packages (from requests->pymystem3) (2022.9.14)\n",
      "Installing collected packages: pymystem3\n",
      "Successfully installed pymystem3-0.2.0\n"
     ]
    },
    {
     "name": "stderr",
     "output_type": "stream",
     "text": [
      "WARNING: Ignoring invalid distribution -otobuf (c:\\users\\нур\\appdata\\roaming\\python\\python39\\site-packages)\n",
      "WARNING: Ignoring invalid distribution -rotobuf (c:\\users\\нур\\appdata\\roaming\\python\\python39\\site-packages)\n",
      "WARNING: Ignoring invalid distribution - (c:\\users\\нур\\appdata\\roaming\\python\\python39\\site-packages)\n",
      "WARNING: Ignoring invalid distribution -ensorflow-intel (c:\\users\\нур\\appdata\\roaming\\python\\python39\\site-packages)\n",
      "WARNING: Ignoring invalid distribution -otobuf (c:\\users\\нур\\appdata\\roaming\\python\\python39\\site-packages)\n",
      "WARNING: Ignoring invalid distribution -rotobuf (c:\\users\\нур\\appdata\\roaming\\python\\python39\\site-packages)\n",
      "WARNING: Ignoring invalid distribution - (c:\\users\\нур\\appdata\\roaming\\python\\python39\\site-packages)\n",
      "WARNING: Ignoring invalid distribution -ensorflow-intel (c:\\users\\нур\\appdata\\roaming\\python\\python39\\site-packages)\n",
      "WARNING: Ignoring invalid distribution -otobuf (c:\\users\\нур\\appdata\\roaming\\python\\python39\\site-packages)\n",
      "WARNING: Ignoring invalid distribution -rotobuf (c:\\users\\нур\\appdata\\roaming\\python\\python39\\site-packages)\n",
      "WARNING: Ignoring invalid distribution - (c:\\users\\нур\\appdata\\roaming\\python\\python39\\site-packages)\n",
      "WARNING: Ignoring invalid distribution -ensorflow-intel (c:\\users\\нур\\appdata\\roaming\\python\\python39\\site-packages)\n",
      "WARNING: Ignoring invalid distribution -otobuf (c:\\users\\нур\\appdata\\roaming\\python\\python39\\site-packages)\n",
      "WARNING: Ignoring invalid distribution -rotobuf (c:\\users\\нур\\appdata\\roaming\\python\\python39\\site-packages)\n",
      "WARNING: Ignoring invalid distribution - (c:\\users\\нур\\appdata\\roaming\\python\\python39\\site-packages)\n",
      "WARNING: Ignoring invalid distribution -ensorflow-intel (c:\\users\\нур\\appdata\\roaming\\python\\python39\\site-packages)\n",
      "WARNING: Ignoring invalid distribution -otobuf (c:\\users\\нур\\appdata\\roaming\\python\\python39\\site-packages)\n",
      "WARNING: Ignoring invalid distribution -rotobuf (c:\\users\\нур\\appdata\\roaming\\python\\python39\\site-packages)\n",
      "WARNING: Ignoring invalid distribution - (c:\\users\\нур\\appdata\\roaming\\python\\python39\\site-packages)\n",
      "WARNING: Ignoring invalid distribution -ensorflow-intel (c:\\users\\нур\\appdata\\roaming\\python\\python39\\site-packages)\n",
      "WARNING: Ignoring invalid distribution -otobuf (c:\\users\\нур\\appdata\\roaming\\python\\python39\\site-packages)\n",
      "WARNING: Ignoring invalid distribution -rotobuf (c:\\users\\нур\\appdata\\roaming\\python\\python39\\site-packages)\n",
      "WARNING: Ignoring invalid distribution - (c:\\users\\нур\\appdata\\roaming\\python\\python39\\site-packages)\n",
      "WARNING: Ignoring invalid distribution -ensorflow-intel (c:\\users\\нур\\appdata\\roaming\\python\\python39\\site-packages)\n",
      "WARNING: Ignoring invalid distribution -otobuf (c:\\users\\нур\\appdata\\roaming\\python\\python39\\site-packages)\n",
      "WARNING: Ignoring invalid distribution -rotobuf (c:\\users\\нур\\appdata\\roaming\\python\\python39\\site-packages)\n",
      "WARNING: Ignoring invalid distribution - (c:\\users\\нур\\appdata\\roaming\\python\\python39\\site-packages)\n",
      "WARNING: Ignoring invalid distribution -ensorflow-intel (c:\\users\\нур\\appdata\\roaming\\python\\python39\\site-packages)\n"
     ]
    }
   ],
   "source": [
    "from keras.utils import pad_sequences\n",
    "\n",
    "import re\n",
    "!pip install pymystem3\n",
    "from pymystem3 import Mystem"
   ]
  },
  {
   "cell_type": "code",
   "execution_count": 31,
   "metadata": {
    "execution": {
     "iopub.execute_input": "2021-12-23T14:33:07.741598Z",
     "iopub.status.busy": "2021-12-23T14:33:07.741252Z",
     "iopub.status.idle": "2021-12-23T14:33:07.839131Z",
     "shell.execute_reply": "2021-12-23T14:33:07.838429Z",
     "shell.execute_reply.started": "2021-12-23T14:33:07.741556Z"
    }
   },
   "outputs": [],
   "source": [
    "df = pd.read_csv('labeled.csv')"
   ]
  },
  {
   "cell_type": "code",
   "execution_count": 32,
   "metadata": {
    "execution": {
     "iopub.execute_input": "2021-12-23T14:33:07.840831Z",
     "iopub.status.busy": "2021-12-23T14:33:07.840415Z",
     "iopub.status.idle": "2021-12-23T14:33:07.852291Z",
     "shell.execute_reply": "2021-12-23T14:33:07.851458Z",
     "shell.execute_reply.started": "2021-12-23T14:33:07.840800Z"
    }
   },
   "outputs": [
    {
     "data": {
      "text/html": [
       "<div>\n",
       "<style scoped>\n",
       "    .dataframe tbody tr th:only-of-type {\n",
       "        vertical-align: middle;\n",
       "    }\n",
       "\n",
       "    .dataframe tbody tr th {\n",
       "        vertical-align: top;\n",
       "    }\n",
       "\n",
       "    .dataframe thead th {\n",
       "        text-align: right;\n",
       "    }\n",
       "</style>\n",
       "<table border=\"1\" class=\"dataframe\">\n",
       "  <thead>\n",
       "    <tr style=\"text-align: right;\">\n",
       "      <th></th>\n",
       "      <th>comment</th>\n",
       "      <th>toxic</th>\n",
       "    </tr>\n",
       "  </thead>\n",
       "  <tbody>\n",
       "    <tr>\n",
       "      <th>0</th>\n",
       "      <td>Верблюдов-то за что? Дебилы, бл...\\n</td>\n",
       "      <td>1.0</td>\n",
       "    </tr>\n",
       "    <tr>\n",
       "      <th>1</th>\n",
       "      <td>Хохлы, это отдушина затюканого россиянина, мол...</td>\n",
       "      <td>1.0</td>\n",
       "    </tr>\n",
       "    <tr>\n",
       "      <th>2</th>\n",
       "      <td>Собаке - собачья смерть\\n</td>\n",
       "      <td>1.0</td>\n",
       "    </tr>\n",
       "    <tr>\n",
       "      <th>3</th>\n",
       "      <td>Страницу обнови, дебил. Это тоже не оскорблени...</td>\n",
       "      <td>1.0</td>\n",
       "    </tr>\n",
       "    <tr>\n",
       "      <th>4</th>\n",
       "      <td>тебя не убедил 6-страничный пдф в том, что Скр...</td>\n",
       "      <td>1.0</td>\n",
       "    </tr>\n",
       "    <tr>\n",
       "      <th>5</th>\n",
       "      <td>Для каких стан является эталоном современная с...</td>\n",
       "      <td>1.0</td>\n",
       "    </tr>\n",
       "    <tr>\n",
       "      <th>6</th>\n",
       "      <td>В шапке были ссылки на инфу по текущему фильму...</td>\n",
       "      <td>0.0</td>\n",
       "    </tr>\n",
       "    <tr>\n",
       "      <th>7</th>\n",
       "      <td>УПАД Т! ТАМ НЕЛЬЗЯ СТРОИТЬ! ТЕХНОЛОГИЙ НЕТ! РА...</td>\n",
       "      <td>1.0</td>\n",
       "    </tr>\n",
       "    <tr>\n",
       "      <th>8</th>\n",
       "      <td>Ебать тебя разносит, шизик.\\n</td>\n",
       "      <td>1.0</td>\n",
       "    </tr>\n",
       "    <tr>\n",
       "      <th>9</th>\n",
       "      <td>Обосрался, сиди обтекай\\n</td>\n",
       "      <td>1.0</td>\n",
       "    </tr>\n",
       "  </tbody>\n",
       "</table>\n",
       "</div>"
      ],
      "text/plain": [
       "                                             comment  toxic\n",
       "0               Верблюдов-то за что? Дебилы, бл...\\n    1.0\n",
       "1  Хохлы, это отдушина затюканого россиянина, мол...    1.0\n",
       "2                          Собаке - собачья смерть\\n    1.0\n",
       "3  Страницу обнови, дебил. Это тоже не оскорблени...    1.0\n",
       "4  тебя не убедил 6-страничный пдф в том, что Скр...    1.0\n",
       "5  Для каких стан является эталоном современная с...    1.0\n",
       "6  В шапке были ссылки на инфу по текущему фильму...    0.0\n",
       "7  УПАД Т! ТАМ НЕЛЬЗЯ СТРОИТЬ! ТЕХНОЛОГИЙ НЕТ! РА...    1.0\n",
       "8                      Ебать тебя разносит, шизик.\\n    1.0\n",
       "9                          Обосрался, сиди обтекай\\n    1.0"
      ]
     },
     "execution_count": 32,
     "metadata": {},
     "output_type": "execute_result"
    }
   ],
   "source": [
    "df.head(10)"
   ]
  },
  {
   "cell_type": "code",
   "execution_count": 33,
   "metadata": {
    "execution": {
     "iopub.execute_input": "2021-12-23T14:33:07.854454Z",
     "iopub.status.busy": "2021-12-23T14:33:07.854226Z",
     "iopub.status.idle": "2021-12-23T14:33:07.867223Z",
     "shell.execute_reply": "2021-12-23T14:33:07.866483Z",
     "shell.execute_reply.started": "2021-12-23T14:33:07.854427Z"
    }
   },
   "outputs": [
    {
     "data": {
      "text/plain": [
       "(14412, 2)"
      ]
     },
     "execution_count": 33,
     "metadata": {},
     "output_type": "execute_result"
    }
   ],
   "source": [
    "df.shape"
   ]
  },
  {
   "cell_type": "markdown",
   "metadata": {},
   "source": [
    "Now let's create a function that tokenizes the text, removes punctuation marks and English letters from it, and then apply this function to each cell in the DataFrame.\n",
    "\n",
    "\n",
    "I was given one important advice about this data set, it is better to try not to delete stop words here, they can carry a serious semantic load in the context of comments"
   ]
  },
  {
   "cell_type": "code",
   "execution_count": 34,
   "metadata": {
    "execution": {
     "iopub.execute_input": "2021-12-23T14:33:07.869990Z",
     "iopub.status.busy": "2021-12-23T14:33:07.869711Z",
     "iopub.status.idle": "2021-12-23T14:33:07.877071Z",
     "shell.execute_reply": "2021-12-23T14:33:07.876361Z",
     "shell.execute_reply.started": "2021-12-23T14:33:07.869938Z"
    }
   },
   "outputs": [],
   "source": [
    "def text_cleaner(text):\n",
    "    tokenized_text = word_tokenize(text, language='russian')\n",
    "    clean_text = [word.lower() for word in tokenized_text if word not in punctuation and word != '\\n']\n",
    "    r = re.compile(\"[а-яА-Я]+\")\n",
    "    russian_text = ' '.join([w for w in filter(r.match, clean_text)])\n",
    "    return russian_text"
   ]
  },
  {
   "cell_type": "code",
   "execution_count": 35,
   "metadata": {
    "execution": {
     "iopub.execute_input": "2021-12-23T14:33:07.878520Z",
     "iopub.status.busy": "2021-12-23T14:33:07.878324Z",
     "iopub.status.idle": "2021-12-23T14:33:15.717866Z",
     "shell.execute_reply": "2021-12-23T14:33:15.717116Z",
     "shell.execute_reply.started": "2021-12-23T14:33:07.878496Z"
    }
   },
   "outputs": [],
   "source": [
    "df['comment'] = df['comment'].apply(lambda x: text_cleaner(x))"
   ]
  },
  {
   "cell_type": "markdown",
   "metadata": {},
   "source": [
    "Some comments were last links or sets of numbers, so they should have been left blank after clearing the text. I will remove lines containing empty comments"
   ]
  },
  {
   "cell_type": "code",
   "execution_count": 36,
   "metadata": {
    "execution": {
     "iopub.execute_input": "2021-12-23T14:33:15.719416Z",
     "iopub.status.busy": "2021-12-23T14:33:15.719128Z",
     "iopub.status.idle": "2021-12-23T14:33:15.734344Z",
     "shell.execute_reply": "2021-12-23T14:33:15.733448Z",
     "shell.execute_reply.started": "2021-12-23T14:33:15.719377Z"
    }
   },
   "outputs": [
    {
     "data": {
      "text/html": [
       "<div>\n",
       "<style scoped>\n",
       "    .dataframe tbody tr th:only-of-type {\n",
       "        vertical-align: middle;\n",
       "    }\n",
       "\n",
       "    .dataframe tbody tr th {\n",
       "        vertical-align: top;\n",
       "    }\n",
       "\n",
       "    .dataframe thead th {\n",
       "        text-align: right;\n",
       "    }\n",
       "</style>\n",
       "<table border=\"1\" class=\"dataframe\">\n",
       "  <thead>\n",
       "    <tr style=\"text-align: right;\">\n",
       "      <th></th>\n",
       "      <th>comment</th>\n",
       "      <th>toxic</th>\n",
       "    </tr>\n",
       "  </thead>\n",
       "  <tbody>\n",
       "    <tr>\n",
       "      <th>28</th>\n",
       "      <td></td>\n",
       "      <td>0.0</td>\n",
       "    </tr>\n",
       "    <tr>\n",
       "      <th>652</th>\n",
       "      <td></td>\n",
       "      <td>0.0</td>\n",
       "    </tr>\n",
       "    <tr>\n",
       "      <th>1007</th>\n",
       "      <td></td>\n",
       "      <td>0.0</td>\n",
       "    </tr>\n",
       "    <tr>\n",
       "      <th>3898</th>\n",
       "      <td></td>\n",
       "      <td>0.0</td>\n",
       "    </tr>\n",
       "    <tr>\n",
       "      <th>4284</th>\n",
       "      <td></td>\n",
       "      <td>1.0</td>\n",
       "    </tr>\n",
       "    <tr>\n",
       "      <th>8665</th>\n",
       "      <td></td>\n",
       "      <td>0.0</td>\n",
       "    </tr>\n",
       "    <tr>\n",
       "      <th>11261</th>\n",
       "      <td></td>\n",
       "      <td>1.0</td>\n",
       "    </tr>\n",
       "    <tr>\n",
       "      <th>13848</th>\n",
       "      <td></td>\n",
       "      <td>0.0</td>\n",
       "    </tr>\n",
       "  </tbody>\n",
       "</table>\n",
       "</div>"
      ],
      "text/plain": [
       "      comment  toxic\n",
       "28               0.0\n",
       "652              0.0\n",
       "1007             0.0\n",
       "3898             0.0\n",
       "4284             1.0\n",
       "8665             0.0\n",
       "11261            1.0\n",
       "13848            0.0"
      ]
     },
     "execution_count": 36,
     "metadata": {},
     "output_type": "execute_result"
    }
   ],
   "source": [
    "df.loc[df['comment'] == '']"
   ]
  },
  {
   "cell_type": "code",
   "execution_count": 37,
   "metadata": {
    "execution": {
     "iopub.execute_input": "2021-12-23T14:33:15.736098Z",
     "iopub.status.busy": "2021-12-23T14:33:15.735715Z",
     "iopub.status.idle": "2021-12-23T14:33:15.750779Z",
     "shell.execute_reply": "2021-12-23T14:33:15.749968Z",
     "shell.execute_reply.started": "2021-12-23T14:33:15.736055Z"
    }
   },
   "outputs": [],
   "source": [
    "df = df.drop(df[df['comment'] == ''].index)"
   ]
  },
  {
   "cell_type": "code",
   "execution_count": 38,
   "metadata": {
    "execution": {
     "iopub.execute_input": "2021-12-23T14:33:15.752259Z",
     "iopub.status.busy": "2021-12-23T14:33:15.751993Z",
     "iopub.status.idle": "2021-12-23T14:33:15.766568Z",
     "shell.execute_reply": "2021-12-23T14:33:15.766004Z",
     "shell.execute_reply.started": "2021-12-23T14:33:15.752228Z"
    }
   },
   "outputs": [
    {
     "data": {
      "text/html": [
       "<div>\n",
       "<style scoped>\n",
       "    .dataframe tbody tr th:only-of-type {\n",
       "        vertical-align: middle;\n",
       "    }\n",
       "\n",
       "    .dataframe tbody tr th {\n",
       "        vertical-align: top;\n",
       "    }\n",
       "\n",
       "    .dataframe thead th {\n",
       "        text-align: right;\n",
       "    }\n",
       "</style>\n",
       "<table border=\"1\" class=\"dataframe\">\n",
       "  <thead>\n",
       "    <tr style=\"text-align: right;\">\n",
       "      <th></th>\n",
       "      <th>comment</th>\n",
       "      <th>toxic</th>\n",
       "    </tr>\n",
       "  </thead>\n",
       "  <tbody>\n",
       "  </tbody>\n",
       "</table>\n",
       "</div>"
      ],
      "text/plain": [
       "Empty DataFrame\n",
       "Columns: [comment, toxic]\n",
       "Index: []"
      ]
     },
     "execution_count": 38,
     "metadata": {},
     "output_type": "execute_result"
    }
   ],
   "source": [
    "df.loc[df['comment'] == '']"
   ]
  },
  {
   "cell_type": "markdown",
   "metadata": {},
   "source": [
    "It's time for lemmatization. Stamming is too harsh with words, in cases of profanity and jargon, it can worsen the situation, so I use lemmatization.\n",
    "\n",
    "\n",
    "\n",
    "I want to thank the author of this article: https://habr.com/ru/post/503420/, his life hack helped speed up the lemmatization, applying the method not to every cell, but to the whole text, separated by separators"
   ]
  },
  {
   "cell_type": "code",
   "execution_count": 39,
   "metadata": {
    "execution": {
     "iopub.execute_input": "2021-12-23T14:33:15.769733Z",
     "iopub.status.busy": "2021-12-23T14:33:15.769045Z",
     "iopub.status.idle": "2021-12-23T14:33:15.780878Z",
     "shell.execute_reply": "2021-12-23T14:33:15.780025Z",
     "shell.execute_reply.started": "2021-12-23T14:33:15.769693Z"
    }
   },
   "outputs": [
    {
     "data": {
      "text/plain": [
       "array(['верблюдов-то за что дебилы бл',\n",
       "       'хохлы это отдушина затюканого россиянина мол вон а у хохлов еще хуже если бы хохлов не было кисель их бы придумал',\n",
       "       'собаке собачья смерть', ...,\n",
       "       'посмотрел утомленных солнцем и оказалось что это хороший фильм такая высокобюджетная артхаусятина к которой могут быть претензии только потому что спиздили-распилили и вообще так не бывает ну нахуй этих критиков обзоры длиннее фильмов петросянство хуже рашкокомедий ебанутая ненависть и доебки по мелочам',\n",
       "       'крымотред нарушает правила раздела т.к в нем нет обсуждения политики свободное общение это в это тоже самое если я на доске о политике создам тред о том как плохо без тяночки так что уебывайте в б или нвр со своим чатиком престарелых гомосеков',\n",
       "       'до сих пор пересматриваю его видео орамбо кстати на своем канале пилит похожий контент но качеством похуже там же и шуран не редко светится храню хрупкую надежду что когда-то он вернется такая годнота ведь'],\n",
       "      dtype=object)"
      ]
     },
     "execution_count": 39,
     "metadata": {},
     "output_type": "execute_result"
    }
   ],
   "source": [
    "comments = df['comment'].to_numpy()\n",
    "comments"
   ]
  },
  {
   "cell_type": "code",
   "execution_count": 40,
   "metadata": {
    "execution": {
     "iopub.execute_input": "2021-12-23T14:33:15.783078Z",
     "iopub.status.busy": "2021-12-23T14:33:15.782416Z",
     "iopub.status.idle": "2021-12-23T14:33:15.942036Z",
     "shell.execute_reply": "2021-12-23T14:33:15.941138Z",
     "shell.execute_reply.started": "2021-12-23T14:33:15.783036Z"
    }
   },
   "outputs": [],
   "source": [
    "lemmatizator = Mystem()\n",
    "text_for_lemmatization = ' sep '.join(comments)"
   ]
  },
  {
   "cell_type": "code",
   "execution_count": 41,
   "metadata": {
    "execution": {
     "iopub.execute_input": "2021-12-23T14:33:15.943808Z",
     "iopub.status.busy": "2021-12-23T14:33:15.943499Z",
     "iopub.status.idle": "2021-12-23T14:33:15.949881Z",
     "shell.execute_reply": "2021-12-23T14:33:15.949339Z",
     "shell.execute_reply.started": "2021-12-23T14:33:15.943769Z"
    }
   },
   "outputs": [
    {
     "data": {
      "text/plain": [
       "'верблюдов-то за что дебилы бл sep хохлы это отдушина затюканого россиянина мол вон а у хохлов еще хуже если бы хохлов не было кисель их бы придумал sep собаке собачья смерть sep страницу обнови дебил это тоже не оскорбление а доказанный факт не-дебил про себя во множественном числе писать не будет или мы в тебя верим это ты и твои воображаемые друзья sep тебя не убедил пдф в том что скрипалей отравила россия анализировать и думать пытаешься ватник что ли sep для каких стан является эталоном современная система здравоохранения рф для зимбабве ты тупой хохлы sep в шапке были ссылки на инфу по текущему фильму марвел эти ссылки были заменены на фразу репортим брипидора игнорируем его посты если этого недостаточно чтобы понять что модератор абсолютный неадекват и его нужно лишить полномочий тогда эта борда пробивает абсолютное дно по неадекватности sep упад т там нельзя строить технологий нет разворуют как всегда уже трещинами пош л тупые китазы не могут ничего нормально сделать sep ебать т'"
      ]
     },
     "execution_count": 41,
     "metadata": {},
     "output_type": "execute_result"
    }
   ],
   "source": [
    "text_for_lemmatization[:1000]"
   ]
  },
  {
   "cell_type": "code",
   "execution_count": 42,
   "metadata": {
    "execution": {
     "iopub.execute_input": "2021-12-23T14:33:15.951491Z",
     "iopub.status.busy": "2021-12-23T14:33:15.950812Z",
     "iopub.status.idle": "2021-12-23T14:33:59.835717Z",
     "shell.execute_reply": "2021-12-23T14:33:59.834850Z",
     "shell.execute_reply.started": "2021-12-23T14:33:15.951462Z"
    }
   },
   "outputs": [],
   "source": [
    "lemmatizated_text = lemmatizator.lemmatize(text_for_lemmatization)\n",
    "lemmatizated_text_list = [word for word in lemmatizated_text if word != ' ' and word != '-']"
   ]
  },
  {
   "cell_type": "code",
   "execution_count": 43,
   "metadata": {
    "execution": {
     "iopub.execute_input": "2021-12-23T14:33:59.837515Z",
     "iopub.status.busy": "2021-12-23T14:33:59.837304Z",
     "iopub.status.idle": "2021-12-23T14:33:59.843423Z",
     "shell.execute_reply": "2021-12-23T14:33:59.842414Z",
     "shell.execute_reply.started": "2021-12-23T14:33:59.837489Z"
    }
   },
   "outputs": [
    {
     "data": {
      "text/plain": [
       "['верблюд',\n",
       " 'то',\n",
       " 'за',\n",
       " 'что',\n",
       " 'дебил',\n",
       " 'бл',\n",
       " 'sep',\n",
       " 'хохол',\n",
       " 'это',\n",
       " 'отдушина']"
      ]
     },
     "execution_count": 43,
     "metadata": {},
     "output_type": "execute_result"
    }
   ],
   "source": [
    "lemmatizated_text_list[:10]"
   ]
  },
  {
   "cell_type": "code",
   "execution_count": 44,
   "metadata": {
    "execution": {
     "iopub.execute_input": "2021-12-23T14:33:59.844898Z",
     "iopub.status.busy": "2021-12-23T14:33:59.844705Z",
     "iopub.status.idle": "2021-12-23T14:34:00.181922Z",
     "shell.execute_reply": "2021-12-23T14:34:00.181006Z",
     "shell.execute_reply.started": "2021-12-23T14:33:59.844876Z"
    }
   },
   "outputs": [],
   "source": [
    "lemmatizated_text = ' '.join(lemmatizated_text_list)\n",
    "lemmatizated_array = np.asarray(lemmatizated_text.split(' sep '))"
   ]
  },
  {
   "cell_type": "code",
   "execution_count": 45,
   "metadata": {
    "execution": {
     "iopub.execute_input": "2021-12-23T14:34:00.183409Z",
     "iopub.status.busy": "2021-12-23T14:34:00.183171Z",
     "iopub.status.idle": "2021-12-23T14:34:00.189308Z",
     "shell.execute_reply": "2021-12-23T14:34:00.188312Z",
     "shell.execute_reply.started": "2021-12-23T14:34:00.183382Z"
    }
   },
   "outputs": [
    {
     "data": {
      "text/plain": [
       "array(['верблюд то за что дебил бл',\n",
       "       'хохол это отдушина затюканый россиянин мол вон а у хохлов еще плохо если бы хохлов не быть кисель они бы придумывать',\n",
       "       'собака собачий смерть',\n",
       "       'страница обновлять дебил это тоже не оскорбление а доказывать факт не дебил про себя во множественный число писать не быть или мы в ты верить это ты и твой воображать друг',\n",
       "       'ты не убеждать пдф в то что скрипалый отравлять россия анализировать и думать пытаться ватник что ли',\n",
       "       'для какой стан являться эталон современный система здравоохранение рф для зимбабве ты тупой хохол',\n",
       "       'в шапка быть ссылка на инф по текущий фильм марвести этот ссылка быть заменять на фраза репортить брипидор игнорировать его пост если это недостаточно чтобы понимать что модератор абсолютный неадекват и он нужно лишать полномочие тогда этот борд пробивать абсолютный дно по неадекватность',\n",
       "       'упад т там нельзя строить технология нет разворовывать как всегда уже трещина пош л тупой китаз не мочь ничто нормально сделать',\n",
       "       'ебать ты разносить шизик', 'обсираться сидеть обтекать'],\n",
       "      dtype='<U7033')"
      ]
     },
     "execution_count": 45,
     "metadata": {},
     "output_type": "execute_result"
    }
   ],
   "source": [
    "lemmatizated_array[:10]"
   ]
  },
  {
   "cell_type": "markdown",
   "metadata": {},
   "source": [
    "Replace class labels with integers"
   ]
  },
  {
   "cell_type": "code",
   "execution_count": 46,
   "metadata": {
    "execution": {
     "iopub.execute_input": "2021-12-23T14:34:00.190708Z",
     "iopub.status.busy": "2021-12-23T14:34:00.190506Z",
     "iopub.status.idle": "2021-12-23T14:34:00.205279Z",
     "shell.execute_reply": "2021-12-23T14:34:00.204512Z",
     "shell.execute_reply.started": "2021-12-23T14:34:00.190684Z"
    }
   },
   "outputs": [
    {
     "data": {
      "text/plain": [
       "array([1, 1, 1, ..., 0, 1, 0])"
      ]
     },
     "execution_count": 46,
     "metadata": {},
     "output_type": "execute_result"
    }
   ],
   "source": [
    "df['toxic'] = df['toxic'].astype(int)\n",
    "labels = df['toxic'].to_numpy()\n",
    "labels"
   ]
  },
  {
   "cell_type": "markdown",
   "metadata": {},
   "source": [
    "Now split the dataset into training and test data and determine the size of the vocabulary by counting unique words in the training set.\n",
    "I count words only in the training set to avoid an obvious data leakage"
   ]
  },
  {
   "cell_type": "code",
   "execution_count": 47,
   "metadata": {
    "execution": {
     "iopub.execute_input": "2021-12-23T14:34:00.206658Z",
     "iopub.status.busy": "2021-12-23T14:34:00.206462Z",
     "iopub.status.idle": "2021-12-23T14:34:00.486611Z",
     "shell.execute_reply": "2021-12-23T14:34:00.485996Z",
     "shell.execute_reply.started": "2021-12-23T14:34:00.206634Z"
    }
   },
   "outputs": [],
   "source": [
    "X_train, X_test, y_train, y_test = train_test_split(lemmatizated_array, labels, test_size=0.2, stratify=labels, shuffle=True, random_state=42)"
   ]
  },
  {
   "cell_type": "code",
   "execution_count": 48,
   "metadata": {
    "execution": {
     "iopub.execute_input": "2021-12-23T14:34:00.488452Z",
     "iopub.status.busy": "2021-12-23T14:34:00.487970Z",
     "iopub.status.idle": "2021-12-23T14:34:00.494059Z",
     "shell.execute_reply": "2021-12-23T14:34:00.493142Z",
     "shell.execute_reply.started": "2021-12-23T14:34:00.488421Z"
    }
   },
   "outputs": [
    {
     "data": {
      "text/plain": [
       "array(['и просто так тоже не отбирать обязанный быть выплачивать рыночный стоимость а так же возможный потеря прибыль',\n",
       "       'тег паук не хватать для добавление пост в игнор человек с фобия паук',\n",
       "       'ничто майдан согнать это все равный на крайний уже случай сша и нато помогать поискать надо в пидорашек химический оружие моль скоро к хусейн и чаушеска отправляться процент пидорашек против конец твой близкий тиран',\n",
       "       ..., 'свинута давать шебм отрабатывать пайка в минстеця',\n",
       "       'такой операция и процедура это не новость в питер такой операция уже давно проводить так что никакой сенсация',\n",
       "       'черт опускать гомикадзе би опускать гей на ебать ссать хуй сосать черт и пиздабол чисто мразь в мазок один ложь и грязь пиздаболище писькамаз х15р угомоняться разорять пригожина'],\n",
       "      dtype='<U7033')"
      ]
     },
     "execution_count": 48,
     "metadata": {},
     "output_type": "execute_result"
    }
   ],
   "source": [
    "X_train"
   ]
  },
  {
   "cell_type": "code",
   "execution_count": 49,
   "metadata": {
    "execution": {
     "iopub.execute_input": "2021-12-23T14:34:00.495750Z",
     "iopub.status.busy": "2021-12-23T14:34:00.495050Z",
     "iopub.status.idle": "2021-12-23T14:34:00.921519Z",
     "shell.execute_reply": "2021-12-23T14:34:00.920723Z",
     "shell.execute_reply.started": "2021-12-23T14:34:00.495717Z"
    }
   },
   "outputs": [
    {
     "data": {
      "text/plain": [
       "28063"
      ]
     },
     "execution_count": 49,
     "metadata": {},
     "output_type": "execute_result"
    }
   ],
   "source": [
    "token_counts = Counter()\n",
    "for sent in X_train:\n",
    "    token_counts.update(sent.split(' '))\n",
    "    \n",
    "dict_size = len(token_counts.keys())\n",
    "dict_size"
   ]
  },
  {
   "cell_type": "markdown",
   "metadata": {},
   "source": [
    "Now, using the keras framework tokenizer, turn the text into a sequence of integers. After that I select the maximum comment length, all comments longer will be truncated, and those that are shorter will be padded"
   ]
  },
  {
   "cell_type": "code",
   "execution_count": 50,
   "metadata": {
    "execution": {
     "iopub.execute_input": "2021-12-23T14:34:00.923165Z",
     "iopub.status.busy": "2021-12-23T14:34:00.922845Z",
     "iopub.status.idle": "2021-12-23T14:34:01.876994Z",
     "shell.execute_reply": "2021-12-23T14:34:01.875957Z",
     "shell.execute_reply.started": "2021-12-23T14:34:00.923120Z"
    }
   },
   "outputs": [],
   "source": [
    "tokenizer = Tokenizer(num_words=dict_size)\n",
    "tokenizer.fit_on_texts(X_train)"
   ]
  },
  {
   "cell_type": "code",
   "execution_count": 51,
   "metadata": {
    "execution": {
     "iopub.execute_input": "2021-12-23T14:34:01.878908Z",
     "iopub.status.busy": "2021-12-23T14:34:01.878387Z",
     "iopub.status.idle": "2021-12-23T14:34:02.896058Z",
     "shell.execute_reply": "2021-12-23T14:34:02.895022Z",
     "shell.execute_reply.started": "2021-12-23T14:34:01.878873Z"
    }
   },
   "outputs": [],
   "source": [
    "X_train_tokenized = tokenizer.texts_to_sequences(X_train)\n",
    "X_test_tokenized = tokenizer.texts_to_sequences(X_test)"
   ]
  },
  {
   "cell_type": "code",
   "execution_count": 52,
   "metadata": {
    "execution": {
     "iopub.execute_input": "2021-12-23T14:34:02.897332Z",
     "iopub.status.busy": "2021-12-23T14:34:02.897135Z",
     "iopub.status.idle": "2021-12-23T14:34:03.070572Z",
     "shell.execute_reply": "2021-12-23T14:34:03.069758Z",
     "shell.execute_reply.started": "2021-12-23T14:34:02.897308Z"
    }
   },
   "outputs": [],
   "source": [
    "max_comment_length = 250\n",
    "X_train_padded = pad_sequences(X_train_tokenized, maxlen=max_comment_length)\n",
    "X_test_padded = pad_sequences(X_test_tokenized, maxlen=max_comment_length)"
   ]
  },
  {
   "cell_type": "markdown",
   "metadata": {},
   "source": [
    "And here it is - the simplest convolutional neural network :)\n",
    "\n",
    "Let's see if it can handle it. Among the quality metrics, in this case, a high recall is important, because it is better to erroneously react to a normal comment than to skip a toxic one."
   ]
  },
  {
   "cell_type": "code",
   "execution_count": 53,
   "metadata": {
    "execution": {
     "iopub.execute_input": "2021-12-23T14:34:03.072363Z",
     "iopub.status.busy": "2021-12-23T14:34:03.072028Z",
     "iopub.status.idle": "2021-12-23T14:34:03.138806Z",
     "shell.execute_reply": "2021-12-23T14:34:03.138069Z",
     "shell.execute_reply.started": "2021-12-23T14:34:03.072307Z"
    }
   },
   "outputs": [
    {
     "name": "stdout",
     "output_type": "stream",
     "text": [
      "Model: \"sequential_1\"\n",
      "_________________________________________________________________\n",
      "Layer (type)                 Output Shape              Param #   \n",
      "=================================================================\n",
      "embedding_1 (Embedding)      (None, 250, 64)           1796032   \n",
      "_________________________________________________________________\n",
      "conv1d_1 (Conv1D)            (None, 249, 128)          16512     \n",
      "_________________________________________________________________\n",
      "global_max_pooling1d_1 (Glob (None, 128)               0         \n",
      "_________________________________________________________________\n",
      "dense_1 (Dense)              (None, 1)                 129       \n",
      "=================================================================\n",
      "Total params: 1,812,673\n",
      "Trainable params: 1,812,673\n",
      "Non-trainable params: 0\n",
      "_________________________________________________________________\n"
     ]
    }
   ],
   "source": [
    "max_features = dict_size\n",
    "embedding_dim = 64\n",
    "\n",
    "\n",
    "model = Sequential()\n",
    "model.add(Embedding(input_dim=max_features, \n",
    "                    output_dim=embedding_dim, \n",
    "                    input_length=max_comment_length))\n",
    "model.add(Conv1D(filters=embedding_dim*2, \n",
    "                 kernel_size=2, \n",
    "                 activation='relu'))\n",
    "model.add(GlobalMaxPooling1D())\n",
    "model.add(Dense(1, activation='sigmoid'))\n",
    "\n",
    "\n",
    "model.summary()\n",
    "model.compile(loss='binary_crossentropy', \n",
    "              optimizer='adam', \n",
    "              metrics=[keras.metrics.Precision(), keras.metrics.Recall()])"
   ]
  },
  {
   "cell_type": "code",
   "execution_count": 54,
   "metadata": {
    "execution": {
     "iopub.execute_input": "2021-12-23T14:34:03.140135Z",
     "iopub.status.busy": "2021-12-23T14:34:03.139893Z",
     "iopub.status.idle": "2021-12-23T14:34:31.218525Z",
     "shell.execute_reply": "2021-12-23T14:34:31.217673Z",
     "shell.execute_reply.started": "2021-12-23T14:34:03.140106Z"
    }
   },
   "outputs": [
    {
     "name": "stdout",
     "output_type": "stream",
     "text": [
      "Epoch 1/5\n",
      "23/23 [==============================] - 7s 244ms/step - loss: 0.6334 - precision_1: 0.0000e+00 - recall_1: 0.0000e+00 - val_loss: 0.6067 - val_precision_1: 0.0000e+00 - val_recall_1: 0.0000e+00\n",
      "Epoch 2/5\n",
      "23/23 [==============================] - 5s 237ms/step - loss: 0.5785 - precision_1: 0.9615 - recall_1: 0.0065 - val_loss: 0.5475 - val_precision_1: 0.9011 - val_recall_1: 0.0850\n",
      "Epoch 3/5\n",
      "23/23 [==============================] - 5s 227ms/step - loss: 0.4682 - precision_1: 0.9402 - recall_1: 0.3462 - val_loss: 0.4101 - val_precision_1: 0.8847 - val_recall_1: 0.5565\n",
      "Epoch 4/5\n",
      "23/23 [==============================] - 6s 245ms/step - loss: 0.3021 - precision_1: 0.9169 - recall_1: 0.7632 - val_loss: 0.3098 - val_precision_1: 0.8831 - val_recall_1: 0.7202\n",
      "Epoch 5/5\n",
      "23/23 [==============================] - 5s 227ms/step - loss: 0.1841 - precision_1: 0.9289 - recall_1: 0.8943 - val_loss: 0.2822 - val_precision_1: 0.8685 - val_recall_1: 0.7668\n",
      "CPU times: user 1min 36s, sys: 547 ms, total: 1min 37s\n",
      "Wall time: 28.1 s\n"
     ]
    }
   ],
   "source": [
    "%%time\n",
    "epochs = 5\n",
    "\n",
    "history = model.fit(X_train_padded, y_train, epochs=epochs, validation_data=(X_test_padded, y_test), batch_size=512)"
   ]
  },
  {
   "cell_type": "markdown",
   "metadata": {},
   "source": [
    "Let's look at the graph of the network error change by epoch."
   ]
  },
  {
   "cell_type": "code",
   "execution_count": 55,
   "metadata": {
    "execution": {
     "iopub.execute_input": "2021-12-23T14:34:31.220655Z",
     "iopub.status.busy": "2021-12-23T14:34:31.220206Z",
     "iopub.status.idle": "2021-12-23T14:34:31.455268Z",
     "shell.execute_reply": "2021-12-23T14:34:31.454440Z",
     "shell.execute_reply.started": "2021-12-23T14:34:31.220612Z"
    }
   },
   "outputs": [
    {
     "data": {
      "image/png": "[encoded data removed]",
      "text/plain": [
       "<Figure size 720x720 with 1 Axes>"
      ]
     },
     "metadata": {
      "needs_background": "light"
     },
     "output_type": "display_data"
    }
   ],
   "source": [
    "plt.figure(figsize=(10, 10))\n",
    "plt.plot(history.history['loss'])\n",
    "plt.plot(history.history['val_loss'])\n",
    "plt.title('model loss')\n",
    "plt.ylabel('loss')\n",
    "plt.xlabel('epoch')\n",
    "plt.legend(['train', 'test'], loc='upper left')\n",
    "plt.show()"
   ]
  },
  {
   "cell_type": "markdown",
   "metadata": {},
   "source": [
    "Finally, let's look at the predictions\n",
    "\n",
    "The neural network does a good job on the test set"
   ]
  },
  {
   "cell_type": "code",
   "execution_count": 56,
   "metadata": {
    "execution": {
     "iopub.execute_input": "2021-12-23T14:34:31.456686Z",
     "iopub.status.busy": "2021-12-23T14:34:31.456451Z",
     "iopub.status.idle": "2021-12-23T14:34:31.874631Z",
     "shell.execute_reply": "2021-12-23T14:34:31.874012Z",
     "shell.execute_reply.started": "2021-12-23T14:34:31.456658Z"
    }
   },
   "outputs": [
    {
     "name": "stdout",
     "output_type": "stream",
     "text": [
      "[0.03676483]\n"
     ]
    }
   ],
   "source": [
    "predictions = model.predict(X_test_padded)\n",
    "print(predictions[5])"
   ]
  },
  {
   "cell_type": "code",
   "execution_count": 57,
   "metadata": {
    "execution": {
     "iopub.execute_input": "2021-12-23T14:34:31.878195Z",
     "iopub.status.busy": "2021-12-23T14:34:31.877640Z",
     "iopub.status.idle": "2021-12-23T14:34:31.883713Z",
     "shell.execute_reply": "2021-12-23T14:34:31.882889Z",
     "shell.execute_reply.started": "2021-12-23T14:34:31.878160Z"
    }
   },
   "outputs": [
    {
     "data": {
      "text/plain": [
       "0"
      ]
     },
     "execution_count": 57,
     "metadata": {},
     "output_type": "execute_result"
    }
   ],
   "source": [
    "y_test[5]"
   ]
  },
  {
   "cell_type": "markdown",
   "metadata": {},
   "source": [
    "And now let's take a random example from the Internet, which is not in our dataset"
   ]
  },
  {
   "cell_type": "code",
   "execution_count": 58,
   "metadata": {
    "execution": {
     "iopub.execute_input": "2021-12-23T14:34:31.885480Z",
     "iopub.status.busy": "2021-12-23T14:34:31.885005Z",
     "iopub.status.idle": "2021-12-23T14:34:32.288501Z",
     "shell.execute_reply": "2021-12-23T14:34:32.287594Z",
     "shell.execute_reply.started": "2021-12-23T14:34:31.885434Z"
    }
   },
   "outputs": [
    {
     "name": "stdout",
     "output_type": "stream",
     "text": [
      "[[0.744058]]\n"
     ]
    }
   ],
   "source": [
    "example = 'прекрасный пример полного отсутствия мозга'\n",
    "clean_example = text_cleaner(example)\n",
    "lemm_example = ' '.join(lemmatizator.lemmatize(clean_example))\n",
    "array_example = np.array([lemm_example])\n",
    "seq_example = tokenizer.texts_to_sequences(array_example)\n",
    "pad_example = pad_sequences(seq_example, maxlen=max_comment_length)\n",
    "pred_example = model.predict(pad_example)\n",
    "print(pred_example)"
   ]
  },
  {
   "cell_type": "markdown",
   "metadata": {},
   "source": [
    "Well, looks good!\n",
    "Thank You for watching :)"
   ]
  }
 ],
 "metadata": {
  "kernelspec": {
   "display_name": "Python 3 (ipykernel)",
   "language": "python",
   "name": "python3"
  },
  "language_info": {
   "codemirror_mode": {
    "name": "ipython",
    "version": 3
   },
   "file_extension": ".py",
   "mimetype": "text/x-python",
   "name": "python",
   "nbconvert_exporter": "python",
   "pygments_lexer": "ipython3",
   "version": "3.9.13"
  }
 },
 "nbformat": 4,
 "nbformat_minor": 4
}
